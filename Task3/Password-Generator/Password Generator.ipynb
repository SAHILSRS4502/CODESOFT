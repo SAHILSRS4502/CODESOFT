{
 "cells": [
  {
   "cell_type": "code",
   "execution_count": 8,
   "id": "4753c0c3-a9ea-4bfe-aea4-6ab87d735ba1",
   "metadata": {},
   "outputs": [],
   "source": [
    "import random\n",
    "import string"
   ]
  },
  {
   "cell_type": "code",
   "execution_count": 12,
   "id": "ab0a9d15-c4a4-4e2b-9d21-4384dc774658",
   "metadata": {},
   "outputs": [
    {
     "name": "stdout",
     "output_type": "stream",
     "text": [
      "Password Generator\n"
     ]
    },
    {
     "name": "stdin",
     "output_type": "stream",
     "text": [
      "Enter the desired length of the password (e.g., 8, 12, 16):  8\n",
      "Include uppercase letters? (y/n):  y\n",
      "Include numbers? (y/n):  y\n",
      "Include special characters? (y/n):  y\n"
     ]
    },
    {
     "name": "stdout",
     "output_type": "stream",
     "text": [
      "Generated Password: ;i*+l>/*\n"
     ]
    }
   ],
   "source": [
    "def generate_password(length, include_uppercase=True, include_numbers=True, include_special_chars=True):\n",
    "    # Define the character sets\n",
    "    lowercase_letters = string.ascii_lowercase\n",
    "    uppercase_letters = string.ascii_uppercase if include_uppercase else ''\n",
    "    digits = string.digits if include_numbers else ''\n",
    "    special_chars = string.punctuation if include_special_chars else ''\n",
    "\n",
    "    # Combine all selected character sets\n",
    "    all_chars = lowercase_letters + uppercase_letters + digits + special_chars\n",
    "\n",
    "    # Ensure there is at least one character set selected\n",
    "    if not all_chars:\n",
    "        raise ValueError(\"Error: No character sets selected. Please include at least one character type.\")\n",
    "\n",
    "    # Generate the password by randomly choosing characters from the combined set\n",
    "    password = ''.join(random.choice(all_chars) for _ in range(length))\n",
    "\n",
    "    return password\n",
    "\n",
    "def main():\n",
    "    print(\"Password Generator\")\n",
    "\n",
    "    # Prompt the user to specify the password length\n",
    "    try:\n",
    "        length = int(input(\"Enter the desired length of the password (e.g., 8, 12, 16): \"))\n",
    "        \n",
    "        if length <= 0:\n",
    "            print(\"Error: Password length must be greater than 0.\")\n",
    "            return\n",
    "\n",
    "        # Optional complexity preferences\n",
    "        include_uppercase = input(\"Include uppercase letters? (y/n): \").lower() == 'y'\n",
    "        include_numbers = input(\"Include numbers? (y/n): \").lower() == 'y'\n",
    "        include_special_chars = input(\"Include special characters? (y/n): \").lower() == 'y'\n",
    "\n",
    "        # Generate the password\n",
    "        password = generate_password(length, include_uppercase, include_numbers, include_special_chars)\n",
    "        \n",
    "        # Display the generated password\n",
    "        print(f\"Generated Password: {password}\")\n",
    "\n",
    "    except ValueError:\n",
    "        print(\"Error: Invalid input. Please enter a valid number for the password length.\")\n",
    "\n",
    "if __name__ == \"__main__\":\n",
    "    main()\n"
   ]
  },
  {
   "cell_type": "code",
   "execution_count": null,
   "id": "aa0f4251-e0ff-4bff-b91d-97453ede79c8",
   "metadata": {},
   "outputs": [],
   "source": []
  }
 ],
 "metadata": {
  "kernelspec": {
   "display_name": "Python 3 (ipykernel)",
   "language": "python",
   "name": "python3"
  },
  "language_info": {
   "codemirror_mode": {
    "name": "ipython",
    "version": 3
   },
   "file_extension": ".py",
   "mimetype": "text/x-python",
   "name": "python",
   "nbconvert_exporter": "python",
   "pygments_lexer": "ipython3",
   "version": "3.11.5"
  }
 },
 "nbformat": 4,
 "nbformat_minor": 5
}
